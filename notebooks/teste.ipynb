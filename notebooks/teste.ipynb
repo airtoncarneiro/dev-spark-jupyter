{
 "cells": [
  {
   "cell_type": "code",
   "execution_count": 1,
   "id": "86b10e83-fff2-4768-994b-dca9f3c1acc3",
   "metadata": {},
   "outputs": [],
   "source": [
    "# Obter o caminho para os notebooks e logs a partir das variáveis de ambiente\n",
    "import os\n",
    "user_name = os.environ.get('USER_NAME', 'spark')\n",
    "user_home = os.environ.get('USER_HOME', '/home/spark')"
   ]
  },
  {
   "cell_type": "code",
   "execution_count": 2,
   "id": "69270f6c",
   "metadata": {},
   "outputs": [],
   "source": [
    "import findspark  # type: ignore\n",
    "# findspark.init()  # type: ignore\n",
    "\n",
    "from pyspark.sql import SparkSession"
   ]
  },
  {
   "cell_type": "markdown",
   "id": "df6b4b6c-d262-4cf5-89db-6fd961326a27",
   "metadata": {},
   "source": [
    "### SparkSession - STANDALONE"
   ]
  },
  {
   "cell_type": "code",
   "execution_count": 3,
   "id": "26ef24d7-ff33-402a-88ea-1d99c119fde8",
   "metadata": {},
   "outputs": [
    {
     "name": "stderr",
     "output_type": "stream",
     "text": [
      "Setting default log level to \"WARN\".\n",
      "To adjust logging level use sc.setLogLevel(newLevel). For SparkR, use setLogLevel(newLevel).\n",
      "24/06/16 13:01:18 WARN NativeCodeLoader: Unable to load native-hadoop library for your platform... using builtin-java classes where applicable\n"
     ]
    }
   ],
   "source": [
    "# Construir a sessão Spark\n",
    "spark = SparkSession.builder \\\n",
    "    .appName(\"JupyterSparkExample\") \\\n",
    "    .master(\"spark://spark-master:7077\") \\\n",
    "    .config(\"spark.eventLog.enabled\", \"true\") \\\n",
    "    .config(\"spark.eventLog.dir\", f\"file://{user_home}/logs\") \\\n",
    "    .getOrCreate()"
   ]
  },
  {
   "cell_type": "markdown",
   "id": "e503eba3-5189-494c-8655-c6bc1d794b47",
   "metadata": {},
   "source": [
    "### SparkSession - LOCAL"
   ]
  },
  {
   "cell_type": "raw",
   "id": "a5f7e074-c389-4350-8cdd-7c24075a194f",
   "metadata": {},
   "source": [
    "# se quiser executar o Spark em modo LOCAL usando todos os cores da CPU\n",
    "spark = SparkSession.builder \\\n",
    "    .appName(\"LocalSparkExample\") \\\n",
    "    .master(\"local[*]\") \\\n",
    "    .getOrCreate()"
   ]
  },
  {
   "cell_type": "markdown",
   "id": "4998a90a-5a1c-4df0-a937-ebf982f73315",
   "metadata": {},
   "source": [
    "#### Código"
   ]
  },
  {
   "cell_type": "raw",
   "id": "01d4e0f3-9019-4fec-83da-b5746f0aa150",
   "metadata": {},
   "source": [
    "print(spark.version)"
   ]
  },
  {
   "cell_type": "code",
   "execution_count": 4,
   "id": "f37af223-1c65-4655-90d0-7c0f31e83761",
   "metadata": {},
   "outputs": [],
   "source": [
    "data = [(\"Alice\", 34), (\"Bob\", 45), (\"Cathy\", 29)]\n",
    "columns = [\"Name\", \"Age\"]"
   ]
  },
  {
   "cell_type": "code",
   "execution_count": null,
   "id": "19806373-12b6-44e7-b91b-b01e3014dcdf",
   "metadata": {},
   "outputs": [],
   "source": [
    "df = spark.createDataFrame(data, columns)"
   ]
  },
  {
   "cell_type": "code",
   "execution_count": null,
   "id": "b385df48-ab8e-48f9-aa61-ab6337ba391e",
   "metadata": {},
   "outputs": [],
   "source": [
    "df.show()"
   ]
  },
  {
   "cell_type": "code",
   "execution_count": null,
   "id": "128db74c-0a90-4e46-8d48-4dc3ea98e4a4",
   "metadata": {},
   "outputs": [],
   "source": [
    "df_grouped = df.groupBy(\"Age\").count()"
   ]
  },
  {
   "cell_type": "code",
   "execution_count": null,
   "id": "6953a4a9-5248-4bfd-ad94-2391f85bb0b9",
   "metadata": {},
   "outputs": [],
   "source": [
    "df_grouped.show()"
   ]
  },
  {
   "cell_type": "raw",
   "id": "474dd9c9-a2a7-4b34-a75a-4a3e2ba509f2",
   "metadata": {},
   "source": [
    "# Salva o DataFrame transformado em um arquivo Parquet (opcional)\n",
    "df_grouped.write.parquet(\"/opt/bitnami/spark/data/age_counts.parquet\")"
   ]
  },
  {
   "cell_type": "code",
   "execution_count": null,
   "id": "547f5b3a-21cc-4651-9a70-04f9afe1e9df",
   "metadata": {},
   "outputs": [],
   "source": [
    "spark.stop()"
   ]
  }
 ],
 "metadata": {
  "kernelspec": {
   "display_name": "Python 3 (ipykernel)",
   "language": "python",
   "name": "python3"
  },
  "language_info": {
   "codemirror_mode": {
    "name": "ipython",
    "version": 3
   },
   "file_extension": ".py",
   "mimetype": "text/x-python",
   "name": "python",
   "nbconvert_exporter": "python",
   "pygments_lexer": "ipython3",
   "version": "3.12.4"
  }
 },
 "nbformat": 4,
 "nbformat_minor": 5
}
